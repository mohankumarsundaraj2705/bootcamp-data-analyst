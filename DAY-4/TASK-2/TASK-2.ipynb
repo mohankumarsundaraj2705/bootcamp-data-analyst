{
 "cells": [
  {
   "cell_type": "code",
   "execution_count": 1,
   "metadata": {},
   "outputs": [
    {
     "name": "stdout",
     "output_type": "stream",
     "text": [
      "Defaulting to user installation because normal site-packages is not writeable\n",
      "Requirement already satisfied: pandas in c:\\programdata\\anaconda3\\lib\\site-packages (2.2.2)\n",
      "Requirement already satisfied: numpy in c:\\programdata\\anaconda3\\lib\\site-packages (1.26.4)\n",
      "Requirement already satisfied: seaborn in c:\\programdata\\anaconda3\\lib\\site-packages (0.13.2)\n",
      "Requirement already satisfied: matplotlib in c:\\programdata\\anaconda3\\lib\\site-packages (3.8.4)\n",
      "Requirement already satisfied: python-dateutil>=2.8.2 in c:\\programdata\\anaconda3\\lib\\site-packages (from pandas) (2.9.0.post0)\n",
      "Requirement already satisfied: pytz>=2020.1 in c:\\programdata\\anaconda3\\lib\\site-packages (from pandas) (2024.1)\n",
      "Requirement already satisfied: tzdata>=2022.7 in c:\\programdata\\anaconda3\\lib\\site-packages (from pandas) (2023.3)\n",
      "Requirement already satisfied: contourpy>=1.0.1 in c:\\programdata\\anaconda3\\lib\\site-packages (from matplotlib) (1.2.0)\n",
      "Requirement already satisfied: cycler>=0.10 in c:\\programdata\\anaconda3\\lib\\site-packages (from matplotlib) (0.11.0)\n",
      "Requirement already satisfied: fonttools>=4.22.0 in c:\\programdata\\anaconda3\\lib\\site-packages (from matplotlib) (4.51.0)\n",
      "Requirement already satisfied: kiwisolver>=1.3.1 in c:\\programdata\\anaconda3\\lib\\site-packages (from matplotlib) (1.4.4)\n",
      "Requirement already satisfied: packaging>=20.0 in c:\\programdata\\anaconda3\\lib\\site-packages (from matplotlib) (23.2)\n",
      "Requirement already satisfied: pillow>=8 in c:\\programdata\\anaconda3\\lib\\site-packages (from matplotlib) (10.3.0)\n",
      "Requirement already satisfied: pyparsing>=2.3.1 in c:\\programdata\\anaconda3\\lib\\site-packages (from matplotlib) (3.0.9)\n",
      "Requirement already satisfied: six>=1.5 in c:\\programdata\\anaconda3\\lib\\site-packages (from python-dateutil>=2.8.2->pandas) (1.16.0)\n",
      "Note: you may need to restart the kernel to use updated packages.\n"
     ]
    }
   ],
   "source": [
    "pip install pandas numpy seaborn matplotlib"
   ]
  },
  {
   "cell_type": "code",
   "execution_count": 1,
   "metadata": {},
   "outputs": [
    {
     "name": "stdout",
     "output_type": "stream",
     "text": [
      "\n",
      "Dataset Overview:\n",
      "<class 'pandas.core.frame.DataFrame'>\n",
      "RangeIndex: 20 entries, 0 to 19\n",
      "Data columns (total 8 columns):\n",
      " #   Column           Non-Null Count  Dtype \n",
      "---  ------           --------------  ----- \n",
      " 0   CustomerID       20 non-null     int64 \n",
      " 1   Gender           20 non-null     object\n",
      " 2   SeniorCitizen    20 non-null     int32 \n",
      " 3   Contract         20 non-null     object\n",
      " 4   PaymentMethod    20 non-null     object\n",
      " 5   InternetService  20 non-null     object\n",
      " 6   State            20 non-null     object\n",
      " 7   Churn            20 non-null     object\n",
      "dtypes: int32(1), int64(1), object(6)\n",
      "memory usage: 1.3+ KB\n",
      "None\n",
      "\n",
      "Sample Data:\n",
      "   CustomerID  Gender  SeniorCitizen        Contract     PaymentMethod  \\\n",
      "0           1    Male              1        One year  Electronic check   \n",
      "1           2    Male              1  Month-to-month     Bank transfer   \n",
      "2           3    Male              0  Month-to-month     Bank transfer   \n",
      "3           4  Female              0        Two year       Credit card   \n",
      "4           5  Female              1        Two year     Bank transfer   \n",
      "\n",
      "  InternetService       State Churn  \n",
      "0              No    New York    No  \n",
      "1     Fiber optic  California   Yes  \n",
      "2     Fiber optic  California   Yes  \n",
      "3     Fiber optic     Florida    No  \n",
      "4             DSL    New York    No  \n",
      "\n",
      "Churn Distribution:\n",
      "Churn\n",
      "No     0.7\n",
      "Yes    0.3\n",
      "Name: proportion, dtype: float64\n"
     ]
    }
   ],
   "source": [
    "import pandas as pd\n",
    "import numpy as np\n",
    "import seaborn as sns\n",
    "\n",
    "\n",
    "# Creating a sample dataset\n",
    "data = {\n",
    "    \"CustomerID\": range(1, 21),\n",
    "    \"Gender\": np.random.choice([\"Male\", \"Female\"], size=20),\n",
    "    \"SeniorCitizen\": np.random.choice([0, 1], size=20),  # 0 = Not senior, 1 = Senior\n",
    "    \"Contract\": np.random.choice([\"Month-to-month\", \"One year\", \"Two year\"], size=20),\n",
    "    \"PaymentMethod\": np.random.choice([\"Electronic check\", \"Mailed check\", \"Bank transfer\", \"Credit card\"], size=20),\n",
    "    \"InternetService\": np.random.choice([\"DSL\", \"Fiber optic\", \"No\"], size=20),\n",
    "    \"State\": np.random.choice([\"California\", \"Texas\", \"New York\", \"Florida\"], size=20),\n",
    "    \"Churn\": np.random.choice([\"Yes\", \"No\"], size=20, p=[0.3, 0.7])  # Imbalanced churn\n",
    "}\n",
    "\n",
    "# Convert to DataFrame\n",
    "df = pd.DataFrame(data)\n",
    "\n",
    "# Display basic dataset info\n",
    "print(\"\\nDataset Overview:\")\n",
    "print(df.info())\n",
    "\n",
    "# Show first few rows\n",
    "print(\"\\nSample Data:\")\n",
    "print(df.head())\n",
    "\n",
    "# Check class imbalance in target variable\n",
    "print(\"\\nChurn Distribution:\")\n",
    "print(df[\"Churn\"].value_counts(normalize=True))\n",
    "\n",
    "\n",
    "   "
   ]
  },
  {
   "cell_type": "code",
   "execution_count": null,
   "metadata": {},
   "outputs": [],
   "source": []
  }
 ],
 "metadata": {
  "kernelspec": {
   "display_name": "base",
   "language": "python",
   "name": "python3"
  },
  "language_info": {
   "codemirror_mode": {
    "name": "ipython",
    "version": 3
   },
   "file_extension": ".py",
   "mimetype": "text/x-python",
   "name": "python",
   "nbconvert_exporter": "python",
   "pygments_lexer": "ipython3",
   "version": "3.12.4"
  }
 },
 "nbformat": 4,
 "nbformat_minor": 2
}
